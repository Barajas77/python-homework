{
 "cells": [
  {
   "cell_type": "code",
   "execution_count": 1,
   "id": "a7368729-06b1-498b-a061-23cc53139bf8",
   "metadata": {},
   "outputs": [
    {
     "data": {
      "text/plain": [
       "'PyRamen Homework Starter.'"
      ]
     },
     "execution_count": 1,
     "metadata": {},
     "output_type": "execute_result"
    }
   ],
   "source": [
    "# -*- coding: UTF-8 -*-\\\n",
    "\"\"\"PyRamen Homework Starter.\"\"\""
   ]
  },
  {
   "cell_type": "code",
   "execution_count": 2,
   "id": "39a9a6ac-7c99-46fa-9477-44599fe23ce8",
   "metadata": {},
   "outputs": [],
   "source": [
    "# @TODO: Import libraries\n",
    "import csv\n",
    "from pathlib import Path\n",
    "import pandas as pd\n",
    "import numpy as np"
   ]
  },
  {
   "cell_type": "code",
   "execution_count": 10,
   "id": "e7f5ea8b-1783-4428-a4b0-a28cf6a0f66c",
   "metadata": {},
   "outputs": [],
   "source": [
    "# @TODO: Set file paths for menu_data.csv and sales_data.csv\n",
    "menu_filepath = Path('PyRamen/Resources/menu_data.csv')\n",
    "sales_filepath = Path('PyRamen/Resources/sales_data.csv')\n"
   ]
  },
  {
   "cell_type": "code",
   "execution_count": 11,
   "id": "f5797dfe-c1f6-435d-a84b-d39e07bc950d",
   "metadata": {},
   "outputs": [],
   "source": [
    "# @TODO: Read in the menu data into the menu list\n",
    "menu_df = pd.read_csv(menu_filepath)"
   ]
  },
  {
   "cell_type": "code",
   "execution_count": 12,
   "id": "4cc5f089-8e93-441b-9dd6-81b4d8b68722",
   "metadata": {},
   "outputs": [],
   "source": [
    "# @TODO: Read in the sales data into the sales \n",
    "sales_df = pd.read_csv(sales_filepath)"
   ]
  },
  {
   "cell_type": "code",
   "execution_count": 19,
   "id": "8506800d-9e01-485c-9b6d-e9f844d65963",
   "metadata": {},
   "outputs": [
    {
     "data": {
      "text/plain": [
       "Index(['Line_Item_ID', 'Date', 'Credit_Card_Number', 'Quantity', 'Menu_Item'], dtype='object')"
      ]
     },
     "execution_count": 19,
     "metadata": {},
     "output_type": "execute_result"
    }
   ],
   "source": [
    "# @TODO: Initialize dict object to hold our key-value pairs of items and metrics\n",
    "sales_df.columns"
   ]
  },
  {
   "cell_type": "code",
   "execution_count": 36,
   "id": "6d3c2082-ac62-4688-b970-630b54e7546a",
   "metadata": {
    "scrolled": true,
    "tags": []
   },
   "outputs": [
    {
     "ename": "AttributeError",
     "evalue": "'dict' object has no attribute 'unique'",
     "output_type": "error",
     "traceback": [
      "\u001b[1;31m---------------------------------------------------------------------------\u001b[0m",
      "\u001b[1;31mAttributeError\u001b[0m                            Traceback (most recent call last)",
      "\u001b[1;32m<ipython-input-36-596c56e064ac>\u001b[0m in \u001b[0;36m<module>\u001b[1;34m\u001b[0m\n\u001b[0;32m      2\u001b[0m \u001b[0mramen\u001b[0m \u001b[1;33m=\u001b[0m \u001b[0msales_df\u001b[0m\u001b[1;33m[\u001b[0m\u001b[1;33m[\u001b[0m\u001b[1;34m'Quantity'\u001b[0m\u001b[1;33m,\u001b[0m \u001b[1;34m'Menu_Item'\u001b[0m\u001b[1;33m]\u001b[0m\u001b[1;33m]\u001b[0m\u001b[1;33m\u001b[0m\u001b[1;33m\u001b[0m\u001b[0m\n\u001b[0;32m      3\u001b[0m \u001b[0mramen_dict\u001b[0m \u001b[1;33m=\u001b[0m \u001b[0mdict\u001b[0m\u001b[1;33m(\u001b[0m\u001b[0mzip\u001b[0m\u001b[1;33m(\u001b[0m\u001b[0mramen\u001b[0m\u001b[1;33m[\u001b[0m\u001b[1;34m'Menu_Item'\u001b[0m\u001b[1;33m]\u001b[0m\u001b[1;33m,\u001b[0m\u001b[0mramen\u001b[0m\u001b[1;33m[\u001b[0m\u001b[1;34m'Quantity'\u001b[0m\u001b[1;33m]\u001b[0m\u001b[1;33m)\u001b[0m\u001b[1;33m)\u001b[0m\u001b[1;33m\u001b[0m\u001b[1;33m\u001b[0m\u001b[0m\n\u001b[1;32m----> 4\u001b[1;33m \u001b[0mramen_dict\u001b[0m\u001b[1;33m.\u001b[0m\u001b[0munique\u001b[0m\u001b[1;33m(\u001b[0m\u001b[1;33m)\u001b[0m\u001b[1;33m\u001b[0m\u001b[1;33m\u001b[0m\u001b[0m\n\u001b[0m",
      "\u001b[1;31mAttributeError\u001b[0m: 'dict' object has no attribute 'unique'"
     ]
    }
   ],
   "source": [
    "# @TODO: Loop over every row in the sales list object\n",
    "ramen = sales_df[['Quantity', 'Menu_Item']]\n",
    "ramen_dict = dict(zip(ramen['Menu_Item'],ramen['Quantity']))\n",
    "ramen_dict.unique()"
   ]
  },
  {
   "cell_type": "code",
   "execution_count": null,
   "id": "7fca23ea-8aa6-4e16-bd12-b2aa3ab59757",
   "metadata": {},
   "outputs": [],
   "source": [
    "    # Line_Item_ID,Date,Credit_Card_Number,Quantity,Menu_Item\n",
    "    # @TODO: Initialize sales data variables\n"
   ]
  },
  {
   "cell_type": "code",
   "execution_count": null,
   "id": "8a96824e-cbaf-4be5-bf76-3a964806311e",
   "metadata": {},
   "outputs": [],
   "source": [
    "    # @TODO:\n",
    "    # If the item value not in the report, add it as a new entry with initialized metrics\n",
    "    # Naming convention allows the keys to be ordered in logical fashion, count, revenue, cost, profit\n",
    "\n",
    "\n",
    "\n",
    "\n",
    "\n",
    "\n",
    "\n",
    "\n",
    "    # @TODO: For every row in our sales data, loop over the menu records to determine a match\n",
    "\n",
    "\n",
    "        # Item,Category,Description,Price,Cost\n",
    "        # @TODO: Initialize menu data variables\n",
    "\n",
    "\n",
    "\n",
    "\n",
    "        # @TODO: Calculate profit of each item in the menu data\n",
    "\n",
    "\n",
    "        # @TODO: If the item value in our sales data is equal to the any of the items in the menu, then begin tracking metrics for that item\n",
    "\n",
    "\n",
    "            # @TODO: Print out matching menu data\n",
    "\n",
    "\n",
    "\n",
    "\n",
    "\n",
    "\n",
    "            # @TODO: Cumulatively add up the metrics for each item key\n",
    "\n",
    "\n",
    "\n",
    "\n",
    "\n",
    "        # @TODO: Else, the sales item does not equal any fo the item in the menu data, therefore no match\n",
    "\n",
    "\n",
    "\n",
    "    # @TODO: Increment the row counter by 1\n",
    "\n",
    "\n",
    "# @TODO: Print total number of records in sales data\n",
    "\n",
    "\n",
    "\n",
    "\n",
    "# @TODO: Write out report to a text file (won't appear on the command line output)"
   ]
  },
  {
   "cell_type": "code",
   "execution_count": null,
   "id": "72fb3492-1d42-4525-8111-968bf93b90c9",
   "metadata": {},
   "outputs": [],
   "source": []
  }
 ],
 "metadata": {
  "kernelspec": {
   "display_name": "Python 3",
   "language": "python",
   "name": "python3"
  },
  "language_info": {
   "codemirror_mode": {
    "name": "ipython",
    "version": 3
   },
   "file_extension": ".py",
   "mimetype": "text/x-python",
   "name": "python",
   "nbconvert_exporter": "python",
   "pygments_lexer": "ipython3",
   "version": "3.8.3"
  }
 },
 "nbformat": 4,
 "nbformat_minor": 5
}
