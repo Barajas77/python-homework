{
 "cells": [
  {
   "cell_type": "markdown",
   "metadata": {},
   "source": [
    "# Unit 5 - Financial Planning\n"
   ]
  },
  {
   "cell_type": "code",
   "execution_count": 30,
   "metadata": {},
   "outputs": [],
   "source": [
    "# Initial imports\n",
    "import os\n",
    "import requests\n",
    "import pandas as pd\n",
    "from dotenv import load_dotenv\n",
    "import alpaca_trade_api as tradeapi\n",
    "from MCForecastTools import MCSimulation\n",
    "\n",
    "%matplotlib inline"
   ]
  },
  {
   "cell_type": "code",
   "execution_count": 31,
   "metadata": {},
   "outputs": [
    {
     "data": {
      "text/plain": [
       "True"
      ]
     },
     "execution_count": 31,
     "metadata": {},
     "output_type": "execute_result"
    }
   ],
   "source": [
    "# Load .env enviroment variables\n",
    "load_dotenv()"
   ]
  },
  {
   "cell_type": "markdown",
   "metadata": {},
   "source": [
    "## Part 1 - Personal Finance Planner"
   ]
  },
  {
   "cell_type": "markdown",
   "metadata": {},
   "source": [
    "### Collect Crypto Prices Using the `requests` Library"
   ]
  },
  {
   "cell_type": "code",
   "execution_count": 32,
   "metadata": {},
   "outputs": [],
   "source": [
    "# Set current amount of crypto assets\n",
    "# YOUR CODE HERE!\n",
    "my_btc_wallet = 1.2\n",
    "my_eth_wallet = 5.3"
   ]
  },
  {
   "cell_type": "code",
   "execution_count": 33,
   "metadata": {},
   "outputs": [],
   "source": [
    "# Crypto API URLs\n",
    "btc_url = \"https://api.alternative.me/v2/ticker/Bitcoin/?convert=CAD\"\n",
    "eth_url = \"https://api.alternative.me/v2/ticker/Ethereum/?convert=CAD\""
   ]
  },
  {
   "cell_type": "code",
   "execution_count": 34,
   "metadata": {},
   "outputs": [],
   "source": [
    "# Fetch current BTC price\n",
    "# YOUR CODE HERE!\n",
    "my_btc = requests.get(btc_url).json()\n",
    "my_btc = my_btc['data']['1']['quotes']['USD']['price']"
   ]
  },
  {
   "cell_type": "code",
   "execution_count": 35,
   "metadata": {},
   "outputs": [],
   "source": [
    "# Fetch current ETH price\n",
    "# YOUR CODE HERE!]\n",
    "my_eth = requests.get(eth_url).json()\n",
    "my_eth = my_eth['data']['1027']['quotes']['USD']['price']"
   ]
  },
  {
   "cell_type": "code",
   "execution_count": 36,
   "metadata": {},
   "outputs": [
    {
     "name": "stdout",
     "output_type": "stream",
     "text": [
      "The current value of your 36014.0 BTC is $43216.80\n",
      "The current value of your 2554.09 ETH is $13536.68\n"
     ]
    }
   ],
   "source": [
    "# Compute current value of my crpto\n",
    "# YOUR CODE HERE!\n",
    "my_btc_value = my_btc * my_btc_wallet\n",
    "my_eth_value = my_eth * my_eth_wallet\n",
    "# Print current crypto wallet balance\n",
    "print(f\"The current value of your {my_btc} BTC is ${my_btc_value:0.2f}\")\n",
    "print(f\"The current value of your {my_eth} ETH is ${my_eth_value:0.2f}\")"
   ]
  },
  {
   "cell_type": "markdown",
   "metadata": {},
   "source": [
    "### Collect Investments Data Using Alpaca: `SPY` (stocks) and `AGG` (bonds)"
   ]
  },
  {
   "cell_type": "code",
   "execution_count": 37,
   "metadata": {},
   "outputs": [],
   "source": [
    "# Current amount of shares\n",
    "# YOUR CODE HERE!\n",
    "my_spy_wallet = 50\n",
    "my_agg_wallet = 200"
   ]
  },
  {
   "cell_type": "code",
   "execution_count": 38,
   "metadata": {},
   "outputs": [],
   "source": [
    "# Set Alpaca API key and secret\n",
    "# YOUR CODE HERE!\n",
    "alpaca_api_key = os.getenv(\"ALPACA_API_KEY\")\n",
    "alpaca_secret_key = os.getenv(\"ALPACA_SECRET_KEY\")\n",
    "\n",
    "# Create the Alpaca API object\n",
    "# YOUR CODE HERE!\n",
    "api = tradeapi.REST(\n",
    "    alpaca_api_key,\n",
    "    alpaca_secret_key,\n",
    "    api_version = \"v2\"\n",
    ")"
   ]
  },
  {
   "cell_type": "code",
   "execution_count": 39,
   "metadata": {},
   "outputs": [
    {
     "data": {
      "text/html": [
       "<div>\n",
       "<style scoped>\n",
       "    .dataframe tbody tr th:only-of-type {\n",
       "        vertical-align: middle;\n",
       "    }\n",
       "\n",
       "    .dataframe tbody tr th {\n",
       "        vertical-align: top;\n",
       "    }\n",
       "\n",
       "    .dataframe thead tr th {\n",
       "        text-align: left;\n",
       "    }\n",
       "\n",
       "    .dataframe thead tr:last-of-type th {\n",
       "        text-align: right;\n",
       "    }\n",
       "</style>\n",
       "<table border=\"1\" class=\"dataframe\">\n",
       "  <thead>\n",
       "    <tr>\n",
       "      <th></th>\n",
       "      <th colspan=\"5\" halign=\"left\">AGG</th>\n",
       "      <th colspan=\"5\" halign=\"left\">SPY</th>\n",
       "    </tr>\n",
       "    <tr>\n",
       "      <th></th>\n",
       "      <th>open</th>\n",
       "      <th>high</th>\n",
       "      <th>low</th>\n",
       "      <th>close</th>\n",
       "      <th>volume</th>\n",
       "      <th>open</th>\n",
       "      <th>high</th>\n",
       "      <th>low</th>\n",
       "      <th>close</th>\n",
       "      <th>volume</th>\n",
       "    </tr>\n",
       "    <tr>\n",
       "      <th>time</th>\n",
       "      <th></th>\n",
       "      <th></th>\n",
       "      <th></th>\n",
       "      <th></th>\n",
       "      <th></th>\n",
       "      <th></th>\n",
       "      <th></th>\n",
       "      <th></th>\n",
       "      <th></th>\n",
       "      <th></th>\n",
       "    </tr>\n",
       "  </thead>\n",
       "  <tbody>\n",
       "    <tr>\n",
       "      <th>2021-05-27 00:00:00-04:00</th>\n",
       "      <td>114.61</td>\n",
       "      <td>114.62</td>\n",
       "      <td>114.45</td>\n",
       "      <td>114.545</td>\n",
       "      <td>4826895</td>\n",
       "      <td>420.17</td>\n",
       "      <td>420.72</td>\n",
       "      <td>418.9851</td>\n",
       "      <td>419.69</td>\n",
       "      <td>48411613</td>\n",
       "    </tr>\n",
       "  </tbody>\n",
       "</table>\n",
       "</div>"
      ],
      "text/plain": [
       "                              AGG                                       SPY  \\\n",
       "                             open    high     low    close   volume    open   \n",
       "time                                                                          \n",
       "2021-05-27 00:00:00-04:00  114.61  114.62  114.45  114.545  4826895  420.17   \n",
       "\n",
       "                                                               \n",
       "                             high       low   close    volume  \n",
       "time                                                           \n",
       "2021-05-27 00:00:00-04:00  420.72  418.9851  419.69  48411613  "
      ]
     },
     "execution_count": 39,
     "metadata": {},
     "output_type": "execute_result"
    }
   ],
   "source": [
    "# Format current date as ISO format\n",
    "# YOUR CODE HERE!\n",
    "today = pd.Timestamp(\"2021-05-27\", tz=\"America/New_York\").isoformat()\n",
    "# Set the tickers\n",
    "tickers = [\"AGG\", \"SPY\"]\n",
    "\n",
    "# Set timeframe to '1D' for Alpaca API\n",
    "timeframe = \"1D\"\n",
    "\n",
    "# Get current closing prices for SPY and AGG\n",
    "# YOUR CODE HERE!\n",
    "df_portfolio = api.get_barset(\n",
    "    tickers,\n",
    "    timeframe,\n",
    "    start = today,\n",
    "    end = today,\n",
    ").df\n",
    "# Preview DataFrame\n",
    "# YOUR CODE HERE!\n",
    "df_portfolio"
   ]
  },
  {
   "cell_type": "code",
   "execution_count": 40,
   "metadata": {},
   "outputs": [
    {
     "name": "stdout",
     "output_type": "stream",
     "text": [
      "Current AGG closing price: $114.545\n",
      "Current SPY closing price: $419.69\n"
     ]
    }
   ],
   "source": [
    "# Pick AGG and SPY close prices\n",
    "# YOUR CODE HERE!\n",
    "agg_close_price = df_portfolio['AGG']['close'].item()\n",
    "spy_close_price = df_portfolio['SPY']['close'].item()\n",
    "# Print AGG and SPY close prices\n",
    "print(f\"Current AGG closing price: ${agg_close_price}\")\n",
    "print(f\"Current SPY closing price: ${spy_close_price}\")"
   ]
  },
  {
   "cell_type": "code",
   "execution_count": 41,
   "metadata": {},
   "outputs": [
    {
     "name": "stdout",
     "output_type": "stream",
     "text": [
      "The current value of your 50 SPY shares is $20984.50\n",
      "The current value of your 200 AGG shares is $22909.00\n"
     ]
    }
   ],
   "source": [
    "# Compute the current value of shares\n",
    "# YOUR CODE HERE!\n",
    "my_spy_value = my_spy_wallet * spy_close_price\n",
    "my_agg_value = my_agg_wallet * agg_close_price\n",
    "# Print current value of share\n",
    "print(f\"The current value of your {my_spy_wallet} SPY shares is ${my_spy_value:0.2f}\")\n",
    "print(f\"The current value of your {my_agg_wallet} AGG shares is ${my_agg_value:0.2f}\")"
   ]
  },
  {
   "cell_type": "markdown",
   "metadata": {},
   "source": [
    "### Savings Health Analysis"
   ]
  },
  {
   "cell_type": "code",
   "execution_count": 42,
   "metadata": {},
   "outputs": [
    {
     "data": {
      "text/html": [
       "<div>\n",
       "<style scoped>\n",
       "    .dataframe tbody tr th:only-of-type {\n",
       "        vertical-align: middle;\n",
       "    }\n",
       "\n",
       "    .dataframe tbody tr th {\n",
       "        vertical-align: top;\n",
       "    }\n",
       "\n",
       "    .dataframe thead th {\n",
       "        text-align: right;\n",
       "    }\n",
       "</style>\n",
       "<table border=\"1\" class=\"dataframe\">\n",
       "  <thead>\n",
       "    <tr style=\"text-align: right;\">\n",
       "      <th></th>\n",
       "      <th>amount</th>\n",
       "    </tr>\n",
       "  </thead>\n",
       "  <tbody>\n",
       "    <tr>\n",
       "      <th>crypto</th>\n",
       "      <td>56753.477</td>\n",
       "    </tr>\n",
       "    <tr>\n",
       "      <th>shares</th>\n",
       "      <td>43893.500</td>\n",
       "    </tr>\n",
       "  </tbody>\n",
       "</table>\n",
       "</div>"
      ],
      "text/plain": [
       "           amount\n",
       "crypto  56753.477\n",
       "shares  43893.500"
      ]
     },
     "metadata": {},
     "output_type": "display_data"
    }
   ],
   "source": [
    "# Set monthly household income\n",
    "# YOUR CODE HERE!\n",
    "monthly_household_income = 12000.00\n",
    "# Create savings DataFrame\n",
    "df_savings_dict = {'amount': [my_btc_value + my_eth_value, my_spy_value + my_agg_value]}\n",
    "# YOUR CODE HERE!\n",
    "df_savings = pd.DataFrame(df_savings_dict, index = ['crypto','shares'])\n",
    "# Display savings DataFrame\n",
    "display(df_savings)"
   ]
  },
  {
   "cell_type": "code",
   "execution_count": 43,
   "metadata": {},
   "outputs": [
    {
     "data": {
      "text/plain": [
       "array([<AxesSubplot:ylabel='amount'>], dtype=object)"
      ]
     },
     "execution_count": 43,
     "metadata": {},
     "output_type": "execute_result"
    },
    {
     "data": {
      "image/png": "[encoded data removed]",
      "text/plain": [
       "<Figure size 432x288 with 1 Axes>"
      ]
     },
     "metadata": {},
     "output_type": "display_data"
    }
   ],
   "source": [
    "# Plot savings pie chart\n",
    "# YOUR CODE HERE!\n",
    "df_savings.plot(kind='pie',\n",
    "                subplots= True,\n",
    ")"
   ]
  },
  {
   "cell_type": "code",
   "execution_count": 44,
   "metadata": {},
   "outputs": [
    {
     "name": "stdout",
     "output_type": "stream",
     "text": [
      "Congrats you have more than enough in your savings fund\n"
     ]
    }
   ],
   "source": [
    "# Set ideal emergency fund\n",
    "emergency_fund = monthly_household_income * 3\n",
    "\n",
    "# Calculate total amount of savings\n",
    "# YOUR CODE HERE!\n",
    "total_savings = df_savings.sum().item()\n",
    "\n",
    "# Validate saving health\n",
    "# YOUR CODE HERE!\n",
    "if total_savings > emergency_fund:\n",
    "    print('Congrats you have more than enough in your savings fund')\n",
    "elif total_savings == emergency_fund:\n",
    "    print('Congrats you just have enough money in your fund and have reached your goal')\n",
    "else:\n",
    "    print(f'NOT CONGRATS YOU ARE ${emergency_fund - total_savings} FROM YOUR GOAL, YOU NEED TO GET YOUR MONIES UP NOT YOUR FUNNIES UP')"
   ]
  },
  {
   "cell_type": "markdown",
   "metadata": {},
   "source": [
    "## Part 2 - Retirement Planning\n",
    "\n",
    "### Monte Carlo Simulation"
   ]
  },
  {
   "cell_type": "code",
   "execution_count": 45,
   "metadata": {},
   "outputs": [],
   "source": [
    "# Set start and end dates of five years back from today.\n",
    "# Sample results may vary from the solution based on the time frame chosen\n",
    "start_date = pd.Timestamp('2015-08-07', tz='America/New_York').isoformat()\n",
    "end_date = pd.Timestamp('2020-08-07', tz='America/New_York').isoformat()"
   ]
  },
  {
   "cell_type": "code",
   "execution_count": 46,
   "metadata": {},
   "outputs": [
    {
     "data": {
      "text/html": [
       "<div>\n",
       "<style scoped>\n",
       "    .dataframe tbody tr th:only-of-type {\n",
       "        vertical-align: middle;\n",
       "    }\n",
       "\n",
       "    .dataframe tbody tr th {\n",
       "        vertical-align: top;\n",
       "    }\n",
       "\n",
       "    .dataframe thead tr th {\n",
       "        text-align: left;\n",
       "    }\n",
       "</style>\n",
       "<table border=\"1\" class=\"dataframe\">\n",
       "  <thead>\n",
       "    <tr>\n",
       "      <th></th>\n",
       "      <th colspan=\"5\" halign=\"left\">AGG</th>\n",
       "      <th colspan=\"5\" halign=\"left\">SPY</th>\n",
       "    </tr>\n",
       "    <tr>\n",
       "      <th></th>\n",
       "      <th>open</th>\n",
       "      <th>high</th>\n",
       "      <th>low</th>\n",
       "      <th>close</th>\n",
       "      <th>volume</th>\n",
       "      <th>open</th>\n",
       "      <th>high</th>\n",
       "      <th>low</th>\n",
       "      <th>close</th>\n",
       "      <th>volume</th>\n",
       "    </tr>\n",
       "  </thead>\n",
       "  <tbody>\n",
       "    <tr>\n",
       "      <th>2020-03-18</th>\n",
       "      <td>109.36</td>\n",
       "      <td>110.5700</td>\n",
       "      <td>105.7707</td>\n",
       "      <td>106.33</td>\n",
       "      <td>30117292</td>\n",
       "      <td>236.25</td>\n",
       "      <td>248.3700</td>\n",
       "      <td>228.02</td>\n",
       "      <td>241.01</td>\n",
       "      <td>298252778</td>\n",
       "    </tr>\n",
       "    <tr>\n",
       "      <th>2020-03-19</th>\n",
       "      <td>106.47</td>\n",
       "      <td>109.2200</td>\n",
       "      <td>105.5600</td>\n",
       "      <td>108.97</td>\n",
       "      <td>21031320</td>\n",
       "      <td>239.25</td>\n",
       "      <td>247.3800</td>\n",
       "      <td>232.22</td>\n",
       "      <td>241.16</td>\n",
       "      <td>261233795</td>\n",
       "    </tr>\n",
       "    <tr>\n",
       "      <th>2020-03-20</th>\n",
       "      <td>108.46</td>\n",
       "      <td>110.2399</td>\n",
       "      <td>108.4600</td>\n",
       "      <td>109.49</td>\n",
       "      <td>28449412</td>\n",
       "      <td>242.53</td>\n",
       "      <td>244.4700</td>\n",
       "      <td>228.50</td>\n",
       "      <td>228.94</td>\n",
       "      <td>302880969</td>\n",
       "    </tr>\n",
       "    <tr>\n",
       "      <th>2020-03-23</th>\n",
       "      <td>109.90</td>\n",
       "      <td>112.9400</td>\n",
       "      <td>109.0000</td>\n",
       "      <td>112.55</td>\n",
       "      <td>23873510</td>\n",
       "      <td>228.19</td>\n",
       "      <td>229.6833</td>\n",
       "      <td>218.26</td>\n",
       "      <td>222.51</td>\n",
       "      <td>280560712</td>\n",
       "    </tr>\n",
       "    <tr>\n",
       "      <th>2020-03-24</th>\n",
       "      <td>111.52</td>\n",
       "      <td>113.5000</td>\n",
       "      <td>111.0754</td>\n",
       "      <td>113.29</td>\n",
       "      <td>18141498</td>\n",
       "      <td>234.42</td>\n",
       "      <td>244.1000</td>\n",
       "      <td>233.80</td>\n",
       "      <td>243.59</td>\n",
       "      <td>211595249</td>\n",
       "    </tr>\n",
       "  </tbody>\n",
       "</table>\n",
       "</div>"
      ],
      "text/plain": [
       "               AGG                                           SPY            \\\n",
       "              open      high       low   close    volume    open      high   \n",
       "2020-03-18  109.36  110.5700  105.7707  106.33  30117292  236.25  248.3700   \n",
       "2020-03-19  106.47  109.2200  105.5600  108.97  21031320  239.25  247.3800   \n",
       "2020-03-20  108.46  110.2399  108.4600  109.49  28449412  242.53  244.4700   \n",
       "2020-03-23  109.90  112.9400  109.0000  112.55  23873510  228.19  229.6833   \n",
       "2020-03-24  111.52  113.5000  111.0754  113.29  18141498  234.42  244.1000   \n",
       "\n",
       "                                       \n",
       "               low   close     volume  \n",
       "2020-03-18  228.02  241.01  298252778  \n",
       "2020-03-19  232.22  241.16  261233795  \n",
       "2020-03-20  228.50  228.94  302880969  \n",
       "2020-03-23  218.26  222.51  280560712  \n",
       "2020-03-24  233.80  243.59  211595249  "
      ]
     },
     "execution_count": 46,
     "metadata": {},
     "output_type": "execute_result"
    }
   ],
   "source": [
    "# Get 5 years' worth of historical data for SPY and AGG\n",
    "# YOUR CODE HERE!\n",
    "df_stock_data = api.get_barset(\n",
    "    tickers,\n",
    "    timeframe,\n",
    "    start = start_date,\n",
    "    end = end_date\n",
    ").df\n",
    "df_stock_data.index = df_stock_data.index.date\n",
    "\n",
    "# Display sample data\n",
    "df_stock_data.head()"
   ]
  },
  {
   "cell_type": "code",
   "execution_count": 47,
   "metadata": {},
   "outputs": [],
   "source": [
    "# Configuring a Monte Carlo simulation to forecast 30 years cumulative returns\n",
    "# YOUR CODE HERE!\n",
    "MC_thirty_year = MCSimulation(\n",
    "    portfolio_data = df_stock_data,\n",
    "    weights = [.40,.60],\n",
    "    num_simulation = 500,\n",
    "    num_trading_days = 252*30\n",
    ")"
   ]
  },
  {
   "cell_type": "code",
   "execution_count": 48,
   "metadata": {},
   "outputs": [
    {
     "data": {
      "text/html": [
       "<div>\n",
       "<style scoped>\n",
       "    .dataframe tbody tr th:only-of-type {\n",
       "        vertical-align: middle;\n",
       "    }\n",
       "\n",
       "    .dataframe tbody tr th {\n",
       "        vertical-align: top;\n",
       "    }\n",
       "\n",
       "    .dataframe thead tr th {\n",
       "        text-align: left;\n",
       "    }\n",
       "</style>\n",
       "<table border=\"1\" class=\"dataframe\">\n",
       "  <thead>\n",
       "    <tr>\n",
       "      <th></th>\n",
       "      <th colspan=\"6\" halign=\"left\">AGG</th>\n",
       "      <th colspan=\"6\" halign=\"left\">SPY</th>\n",
       "    </tr>\n",
       "    <tr>\n",
       "      <th></th>\n",
       "      <th>open</th>\n",
       "      <th>high</th>\n",
       "      <th>low</th>\n",
       "      <th>close</th>\n",
       "      <th>volume</th>\n",
       "      <th>daily_return</th>\n",
       "      <th>open</th>\n",
       "      <th>high</th>\n",
       "      <th>low</th>\n",
       "      <th>close</th>\n",
       "      <th>volume</th>\n",
       "      <th>daily_return</th>\n",
       "    </tr>\n",
       "  </thead>\n",
       "  <tbody>\n",
       "    <tr>\n",
       "      <th>2020-03-18</th>\n",
       "      <td>109.36</td>\n",
       "      <td>110.5700</td>\n",
       "      <td>105.7707</td>\n",
       "      <td>106.33</td>\n",
       "      <td>30117292</td>\n",
       "      <td>NaN</td>\n",
       "      <td>236.25</td>\n",
       "      <td>248.3700</td>\n",
       "      <td>228.02</td>\n",
       "      <td>241.01</td>\n",
       "      <td>298252778</td>\n",
       "      <td>NaN</td>\n",
       "    </tr>\n",
       "    <tr>\n",
       "      <th>2020-03-19</th>\n",
       "      <td>106.47</td>\n",
       "      <td>109.2200</td>\n",
       "      <td>105.5600</td>\n",
       "      <td>108.97</td>\n",
       "      <td>21031320</td>\n",
       "      <td>0.024828</td>\n",
       "      <td>239.25</td>\n",
       "      <td>247.3800</td>\n",
       "      <td>232.22</td>\n",
       "      <td>241.16</td>\n",
       "      <td>261233795</td>\n",
       "      <td>0.000622</td>\n",
       "    </tr>\n",
       "    <tr>\n",
       "      <th>2020-03-20</th>\n",
       "      <td>108.46</td>\n",
       "      <td>110.2399</td>\n",
       "      <td>108.4600</td>\n",
       "      <td>109.49</td>\n",
       "      <td>28449412</td>\n",
       "      <td>0.004772</td>\n",
       "      <td>242.53</td>\n",
       "      <td>244.4700</td>\n",
       "      <td>228.50</td>\n",
       "      <td>228.94</td>\n",
       "      <td>302880969</td>\n",
       "      <td>-0.050672</td>\n",
       "    </tr>\n",
       "    <tr>\n",
       "      <th>2020-03-23</th>\n",
       "      <td>109.90</td>\n",
       "      <td>112.9400</td>\n",
       "      <td>109.0000</td>\n",
       "      <td>112.55</td>\n",
       "      <td>23873510</td>\n",
       "      <td>0.027948</td>\n",
       "      <td>228.19</td>\n",
       "      <td>229.6833</td>\n",
       "      <td>218.26</td>\n",
       "      <td>222.51</td>\n",
       "      <td>280560712</td>\n",
       "      <td>-0.028086</td>\n",
       "    </tr>\n",
       "    <tr>\n",
       "      <th>2020-03-24</th>\n",
       "      <td>111.52</td>\n",
       "      <td>113.5000</td>\n",
       "      <td>111.0754</td>\n",
       "      <td>113.29</td>\n",
       "      <td>18141498</td>\n",
       "      <td>0.006575</td>\n",
       "      <td>234.42</td>\n",
       "      <td>244.1000</td>\n",
       "      <td>233.80</td>\n",
       "      <td>243.59</td>\n",
       "      <td>211595249</td>\n",
       "      <td>0.094737</td>\n",
       "    </tr>\n",
       "  </tbody>\n",
       "</table>\n",
       "</div>"
      ],
      "text/plain": [
       "               AGG                                                        SPY  \\\n",
       "              open      high       low   close    volume daily_return    open   \n",
       "2020-03-18  109.36  110.5700  105.7707  106.33  30117292          NaN  236.25   \n",
       "2020-03-19  106.47  109.2200  105.5600  108.97  21031320     0.024828  239.25   \n",
       "2020-03-20  108.46  110.2399  108.4600  109.49  28449412     0.004772  242.53   \n",
       "2020-03-23  109.90  112.9400  109.0000  112.55  23873510     0.027948  228.19   \n",
       "2020-03-24  111.52  113.5000  111.0754  113.29  18141498     0.006575  234.42   \n",
       "\n",
       "                                                              \n",
       "                high     low   close     volume daily_return  \n",
       "2020-03-18  248.3700  228.02  241.01  298252778          NaN  \n",
       "2020-03-19  247.3800  232.22  241.16  261233795     0.000622  \n",
       "2020-03-20  244.4700  228.50  228.94  302880969    -0.050672  \n",
       "2020-03-23  229.6833  218.26  222.51  280560712    -0.028086  \n",
       "2020-03-24  244.1000  233.80  243.59  211595249     0.094737  "
      ]
     },
     "execution_count": 48,
     "metadata": {},
     "output_type": "execute_result"
    }
   ],
   "source": [
    "# Printing the simulation input data\n",
    "# YOUR CODE HERE!\n",
    "MC_thirty_year.portfolio_data.head()"
   ]
  },
  {
   "cell_type": "code",
   "execution_count": 55,
   "metadata": {},
   "outputs": [
    {
     "name": "stdout",
     "output_type": "stream",
     "text": [
      "Running Monte Carlo simulation number 0.\n",
      "Running Monte Carlo simulation number 10.\n",
      "Running Monte Carlo simulation number 20.\n",
      "Running Monte Carlo simulation number 30.\n",
      "Running Monte Carlo simulation number 40.\n",
      "Running Monte Carlo simulation number 50.\n",
      "Running Monte Carlo simulation number 60.\n",
      "Running Monte Carlo simulation number 70.\n",
      "Running Monte Carlo simulation number 80.\n",
      "Running Monte Carlo simulation number 90.\n",
      "Running Monte Carlo simulation number 100.\n",
      "Running Monte Carlo simulation number 110.\n",
      "Running Monte Carlo simulation number 120.\n",
      "Running Monte Carlo simulation number 130.\n",
      "Running Monte Carlo simulation number 140.\n",
      "Running Monte Carlo simulation number 150.\n",
      "Running Monte Carlo simulation number 160.\n",
      "Running Monte Carlo simulation number 170.\n",
      "Running Monte Carlo simulation number 180.\n",
      "Running Monte Carlo simulation number 190.\n",
      "Running Monte Carlo simulation number 200.\n",
      "Running Monte Carlo simulation number 210.\n",
      "Running Monte Carlo simulation number 220.\n",
      "Running Monte Carlo simulation number 230.\n",
      "Running Monte Carlo simulation number 240.\n",
      "Running Monte Carlo simulation number 250.\n",
      "Running Monte Carlo simulation number 260.\n",
      "Running Monte Carlo simulation number 270.\n",
      "Running Monte Carlo simulation number 280.\n",
      "Running Monte Carlo simulation number 290.\n",
      "Running Monte Carlo simulation number 300.\n",
      "Running Monte Carlo simulation number 310.\n",
      "Running Monte Carlo simulation number 320.\n",
      "Running Monte Carlo simulation number 330.\n",
      "Running Monte Carlo simulation number 340.\n",
      "Running Monte Carlo simulation number 350.\n",
      "Running Monte Carlo simulation number 360.\n",
      "Running Monte Carlo simulation number 370.\n",
      "Running Monte Carlo simulation number 380.\n",
      "Running Monte Carlo simulation number 390.\n",
      "Running Monte Carlo simulation number 400.\n",
      "Running Monte Carlo simulation number 410.\n",
      "Running Monte Carlo simulation number 420.\n",
      "Running Monte Carlo simulation number 430.\n",
      "Running Monte Carlo simulation number 440.\n",
      "Running Monte Carlo simulation number 450.\n",
      "Running Monte Carlo simulation number 460.\n",
      "Running Monte Carlo simulation number 470.\n",
      "Running Monte Carlo simulation number 480.\n",
      "Running Monte Carlo simulation number 490.\n"
     ]
    },
    {
     "data": {
      "text/html": [
       "<div>\n",
       "<style scoped>\n",
       "    .dataframe tbody tr th:only-of-type {\n",
       "        vertical-align: middle;\n",
       "    }\n",
       "\n",
       "    .dataframe tbody tr th {\n",
       "        vertical-align: top;\n",
       "    }\n",
       "\n",
       "    .dataframe thead th {\n",
       "        text-align: right;\n",
       "    }\n",
       "</style>\n",
       "<table border=\"1\" class=\"dataframe\">\n",
       "  <thead>\n",
       "    <tr style=\"text-align: right;\">\n",
       "      <th></th>\n",
       "      <th>0</th>\n",
       "      <th>1</th>\n",
       "      <th>2</th>\n",
       "      <th>3</th>\n",
       "      <th>4</th>\n",
       "      <th>5</th>\n",
       "      <th>6</th>\n",
       "      <th>7</th>\n",
       "      <th>8</th>\n",
       "      <th>9</th>\n",
       "      <th>...</th>\n",
       "      <th>490</th>\n",
       "      <th>491</th>\n",
       "      <th>492</th>\n",
       "      <th>493</th>\n",
       "      <th>494</th>\n",
       "      <th>495</th>\n",
       "      <th>496</th>\n",
       "      <th>497</th>\n",
       "      <th>498</th>\n",
       "      <th>499</th>\n",
       "    </tr>\n",
       "  </thead>\n",
       "  <tbody>\n",
       "    <tr>\n",
       "      <th>0</th>\n",
       "      <td>1.000000e+00</td>\n",
       "      <td>1.000000e+00</td>\n",
       "      <td>1.000000e+00</td>\n",
       "      <td>1.000000e+00</td>\n",
       "      <td>1.000000e+00</td>\n",
       "      <td>1.000000e+00</td>\n",
       "      <td>1.000000e+00</td>\n",
       "      <td>1.000000e+00</td>\n",
       "      <td>1.000000e+00</td>\n",
       "      <td>1.000000e+00</td>\n",
       "      <td>...</td>\n",
       "      <td>1.000000e+00</td>\n",
       "      <td>1.000000e+00</td>\n",
       "      <td>1.000000e+00</td>\n",
       "      <td>1.000000e+00</td>\n",
       "      <td>1.000000e+00</td>\n",
       "      <td>1.000000e+00</td>\n",
       "      <td>1.000000e+00</td>\n",
       "      <td>1.000000e+00</td>\n",
       "      <td>1.000000e+00</td>\n",
       "      <td>1.000000e+00</td>\n",
       "    </tr>\n",
       "    <tr>\n",
       "      <th>1</th>\n",
       "      <td>9.976804e-01</td>\n",
       "      <td>1.005244e+00</td>\n",
       "      <td>1.016857e+00</td>\n",
       "      <td>1.011552e+00</td>\n",
       "      <td>1.011682e+00</td>\n",
       "      <td>9.910363e-01</td>\n",
       "      <td>9.999920e-01</td>\n",
       "      <td>9.833521e-01</td>\n",
       "      <td>1.013455e+00</td>\n",
       "      <td>1.001039e+00</td>\n",
       "      <td>...</td>\n",
       "      <td>1.001371e+00</td>\n",
       "      <td>9.991068e-01</td>\n",
       "      <td>1.015231e+00</td>\n",
       "      <td>9.948033e-01</td>\n",
       "      <td>9.956318e-01</td>\n",
       "      <td>9.985745e-01</td>\n",
       "      <td>1.001895e+00</td>\n",
       "      <td>1.002379e+00</td>\n",
       "      <td>1.020757e+00</td>\n",
       "      <td>1.001080e+00</td>\n",
       "    </tr>\n",
       "    <tr>\n",
       "      <th>2</th>\n",
       "      <td>9.971719e-01</td>\n",
       "      <td>1.001024e+00</td>\n",
       "      <td>1.007163e+00</td>\n",
       "      <td>1.021260e+00</td>\n",
       "      <td>9.965111e-01</td>\n",
       "      <td>9.894891e-01</td>\n",
       "      <td>9.995220e-01</td>\n",
       "      <td>9.757255e-01</td>\n",
       "      <td>1.018561e+00</td>\n",
       "      <td>1.007446e+00</td>\n",
       "      <td>...</td>\n",
       "      <td>9.929861e-01</td>\n",
       "      <td>9.865388e-01</td>\n",
       "      <td>1.019573e+00</td>\n",
       "      <td>1.004187e+00</td>\n",
       "      <td>1.001340e+00</td>\n",
       "      <td>1.000501e+00</td>\n",
       "      <td>1.012049e+00</td>\n",
       "      <td>1.000456e+00</td>\n",
       "      <td>1.010133e+00</td>\n",
       "      <td>1.007296e+00</td>\n",
       "    </tr>\n",
       "    <tr>\n",
       "      <th>3</th>\n",
       "      <td>9.794491e-01</td>\n",
       "      <td>1.020452e+00</td>\n",
       "      <td>1.002438e+00</td>\n",
       "      <td>1.015759e+00</td>\n",
       "      <td>9.914031e-01</td>\n",
       "      <td>9.992282e-01</td>\n",
       "      <td>1.010887e+00</td>\n",
       "      <td>9.908986e-01</td>\n",
       "      <td>1.011232e+00</td>\n",
       "      <td>1.014693e+00</td>\n",
       "      <td>...</td>\n",
       "      <td>1.001863e+00</td>\n",
       "      <td>1.015431e+00</td>\n",
       "      <td>1.008342e+00</td>\n",
       "      <td>1.010426e+00</td>\n",
       "      <td>1.014542e+00</td>\n",
       "      <td>1.000162e+00</td>\n",
       "      <td>1.015978e+00</td>\n",
       "      <td>1.009598e+00</td>\n",
       "      <td>1.011034e+00</td>\n",
       "      <td>1.015640e+00</td>\n",
       "    </tr>\n",
       "    <tr>\n",
       "      <th>4</th>\n",
       "      <td>9.530187e-01</td>\n",
       "      <td>1.008237e+00</td>\n",
       "      <td>1.005985e+00</td>\n",
       "      <td>1.016162e+00</td>\n",
       "      <td>9.897055e-01</td>\n",
       "      <td>1.007887e+00</td>\n",
       "      <td>1.006947e+00</td>\n",
       "      <td>9.739705e-01</td>\n",
       "      <td>1.014171e+00</td>\n",
       "      <td>1.024869e+00</td>\n",
       "      <td>...</td>\n",
       "      <td>9.834647e-01</td>\n",
       "      <td>1.004698e+00</td>\n",
       "      <td>1.014356e+00</td>\n",
       "      <td>1.027504e+00</td>\n",
       "      <td>1.023315e+00</td>\n",
       "      <td>1.010737e+00</td>\n",
       "      <td>1.013600e+00</td>\n",
       "      <td>1.014218e+00</td>\n",
       "      <td>9.964423e-01</td>\n",
       "      <td>1.030669e+00</td>\n",
       "    </tr>\n",
       "    <tr>\n",
       "      <th>...</th>\n",
       "      <td>...</td>\n",
       "      <td>...</td>\n",
       "      <td>...</td>\n",
       "      <td>...</td>\n",
       "      <td>...</td>\n",
       "      <td>...</td>\n",
       "      <td>...</td>\n",
       "      <td>...</td>\n",
       "      <td>...</td>\n",
       "      <td>...</td>\n",
       "      <td>...</td>\n",
       "      <td>...</td>\n",
       "      <td>...</td>\n",
       "      <td>...</td>\n",
       "      <td>...</td>\n",
       "      <td>...</td>\n",
       "      <td>...</td>\n",
       "      <td>...</td>\n",
       "      <td>...</td>\n",
       "      <td>...</td>\n",
       "      <td>...</td>\n",
       "    </tr>\n",
       "    <tr>\n",
       "      <th>7556</th>\n",
       "      <td>1.498375e+07</td>\n",
       "      <td>3.413417e+07</td>\n",
       "      <td>4.531330e+08</td>\n",
       "      <td>1.735354e+08</td>\n",
       "      <td>1.393230e+08</td>\n",
       "      <td>2.291925e+08</td>\n",
       "      <td>1.954952e+08</td>\n",
       "      <td>1.525408e+08</td>\n",
       "      <td>1.350527e+08</td>\n",
       "      <td>2.217696e+08</td>\n",
       "      <td>...</td>\n",
       "      <td>5.873570e+08</td>\n",
       "      <td>6.634983e+07</td>\n",
       "      <td>2.639875e+08</td>\n",
       "      <td>1.916720e+08</td>\n",
       "      <td>1.507883e+09</td>\n",
       "      <td>4.451196e+07</td>\n",
       "      <td>2.728521e+08</td>\n",
       "      <td>4.641325e+07</td>\n",
       "      <td>1.646872e+08</td>\n",
       "      <td>1.723590e+08</td>\n",
       "    </tr>\n",
       "    <tr>\n",
       "      <th>7557</th>\n",
       "      <td>1.539893e+07</td>\n",
       "      <td>3.446607e+07</td>\n",
       "      <td>4.587023e+08</td>\n",
       "      <td>1.750296e+08</td>\n",
       "      <td>1.411473e+08</td>\n",
       "      <td>2.318816e+08</td>\n",
       "      <td>1.992604e+08</td>\n",
       "      <td>1.539332e+08</td>\n",
       "      <td>1.352434e+08</td>\n",
       "      <td>2.241778e+08</td>\n",
       "      <td>...</td>\n",
       "      <td>6.111673e+08</td>\n",
       "      <td>6.745555e+07</td>\n",
       "      <td>2.627627e+08</td>\n",
       "      <td>1.896627e+08</td>\n",
       "      <td>1.540193e+09</td>\n",
       "      <td>4.515864e+07</td>\n",
       "      <td>2.719642e+08</td>\n",
       "      <td>4.670188e+07</td>\n",
       "      <td>1.652390e+08</td>\n",
       "      <td>1.712642e+08</td>\n",
       "    </tr>\n",
       "    <tr>\n",
       "      <th>7558</th>\n",
       "      <td>1.592317e+07</td>\n",
       "      <td>3.421804e+07</td>\n",
       "      <td>4.669065e+08</td>\n",
       "      <td>1.767679e+08</td>\n",
       "      <td>1.435013e+08</td>\n",
       "      <td>2.333848e+08</td>\n",
       "      <td>2.001826e+08</td>\n",
       "      <td>1.551536e+08</td>\n",
       "      <td>1.376116e+08</td>\n",
       "      <td>2.210288e+08</td>\n",
       "      <td>...</td>\n",
       "      <td>6.148760e+08</td>\n",
       "      <td>6.784106e+07</td>\n",
       "      <td>2.626520e+08</td>\n",
       "      <td>1.916865e+08</td>\n",
       "      <td>1.537356e+09</td>\n",
       "      <td>4.533823e+07</td>\n",
       "      <td>2.681747e+08</td>\n",
       "      <td>4.691649e+07</td>\n",
       "      <td>1.633941e+08</td>\n",
       "      <td>1.758655e+08</td>\n",
       "    </tr>\n",
       "    <tr>\n",
       "      <th>7559</th>\n",
       "      <td>1.617705e+07</td>\n",
       "      <td>3.415517e+07</td>\n",
       "      <td>4.696341e+08</td>\n",
       "      <td>1.773079e+08</td>\n",
       "      <td>1.440274e+08</td>\n",
       "      <td>2.334003e+08</td>\n",
       "      <td>2.003275e+08</td>\n",
       "      <td>1.597279e+08</td>\n",
       "      <td>1.395039e+08</td>\n",
       "      <td>2.232867e+08</td>\n",
       "      <td>...</td>\n",
       "      <td>6.113972e+08</td>\n",
       "      <td>6.914649e+07</td>\n",
       "      <td>2.591874e+08</td>\n",
       "      <td>1.955273e+08</td>\n",
       "      <td>1.511584e+09</td>\n",
       "      <td>4.558344e+07</td>\n",
       "      <td>2.743742e+08</td>\n",
       "      <td>4.717944e+07</td>\n",
       "      <td>1.622406e+08</td>\n",
       "      <td>1.791271e+08</td>\n",
       "    </tr>\n",
       "    <tr>\n",
       "      <th>7560</th>\n",
       "      <td>1.633770e+07</td>\n",
       "      <td>3.414421e+07</td>\n",
       "      <td>4.745767e+08</td>\n",
       "      <td>1.790178e+08</td>\n",
       "      <td>1.458800e+08</td>\n",
       "      <td>2.377621e+08</td>\n",
       "      <td>1.961894e+08</td>\n",
       "      <td>1.627492e+08</td>\n",
       "      <td>1.425827e+08</td>\n",
       "      <td>2.220168e+08</td>\n",
       "      <td>...</td>\n",
       "      <td>6.050104e+08</td>\n",
       "      <td>6.872665e+07</td>\n",
       "      <td>2.564152e+08</td>\n",
       "      <td>1.965273e+08</td>\n",
       "      <td>1.500071e+09</td>\n",
       "      <td>4.663997e+07</td>\n",
       "      <td>2.810767e+08</td>\n",
       "      <td>4.741012e+07</td>\n",
       "      <td>1.597774e+08</td>\n",
       "      <td>1.783612e+08</td>\n",
       "    </tr>\n",
       "  </tbody>\n",
       "</table>\n",
       "<p>7561 rows × 500 columns</p>\n",
       "</div>"
      ],
      "text/plain": [
       "               0             1             2             3             4    \\\n",
       "0     1.000000e+00  1.000000e+00  1.000000e+00  1.000000e+00  1.000000e+00   \n",
       "1     9.976804e-01  1.005244e+00  1.016857e+00  1.011552e+00  1.011682e+00   \n",
       "2     9.971719e-01  1.001024e+00  1.007163e+00  1.021260e+00  9.965111e-01   \n",
       "3     9.794491e-01  1.020452e+00  1.002438e+00  1.015759e+00  9.914031e-01   \n",
       "4     9.530187e-01  1.008237e+00  1.005985e+00  1.016162e+00  9.897055e-01   \n",
       "...            ...           ...           ...           ...           ...   \n",
       "7556  1.498375e+07  3.413417e+07  4.531330e+08  1.735354e+08  1.393230e+08   \n",
       "7557  1.539893e+07  3.446607e+07  4.587023e+08  1.750296e+08  1.411473e+08   \n",
       "7558  1.592317e+07  3.421804e+07  4.669065e+08  1.767679e+08  1.435013e+08   \n",
       "7559  1.617705e+07  3.415517e+07  4.696341e+08  1.773079e+08  1.440274e+08   \n",
       "7560  1.633770e+07  3.414421e+07  4.745767e+08  1.790178e+08  1.458800e+08   \n",
       "\n",
       "               5             6             7             8             9    \\\n",
       "0     1.000000e+00  1.000000e+00  1.000000e+00  1.000000e+00  1.000000e+00   \n",
       "1     9.910363e-01  9.999920e-01  9.833521e-01  1.013455e+00  1.001039e+00   \n",
       "2     9.894891e-01  9.995220e-01  9.757255e-01  1.018561e+00  1.007446e+00   \n",
       "3     9.992282e-01  1.010887e+00  9.908986e-01  1.011232e+00  1.014693e+00   \n",
       "4     1.007887e+00  1.006947e+00  9.739705e-01  1.014171e+00  1.024869e+00   \n",
       "...            ...           ...           ...           ...           ...   \n",
       "7556  2.291925e+08  1.954952e+08  1.525408e+08  1.350527e+08  2.217696e+08   \n",
       "7557  2.318816e+08  1.992604e+08  1.539332e+08  1.352434e+08  2.241778e+08   \n",
       "7558  2.333848e+08  2.001826e+08  1.551536e+08  1.376116e+08  2.210288e+08   \n",
       "7559  2.334003e+08  2.003275e+08  1.597279e+08  1.395039e+08  2.232867e+08   \n",
       "7560  2.377621e+08  1.961894e+08  1.627492e+08  1.425827e+08  2.220168e+08   \n",
       "\n",
       "      ...           490           491           492           493  \\\n",
       "0     ...  1.000000e+00  1.000000e+00  1.000000e+00  1.000000e+00   \n",
       "1     ...  1.001371e+00  9.991068e-01  1.015231e+00  9.948033e-01   \n",
       "2     ...  9.929861e-01  9.865388e-01  1.019573e+00  1.004187e+00   \n",
       "3     ...  1.001863e+00  1.015431e+00  1.008342e+00  1.010426e+00   \n",
       "4     ...  9.834647e-01  1.004698e+00  1.014356e+00  1.027504e+00   \n",
       "...   ...           ...           ...           ...           ...   \n",
       "7556  ...  5.873570e+08  6.634983e+07  2.639875e+08  1.916720e+08   \n",
       "7557  ...  6.111673e+08  6.745555e+07  2.627627e+08  1.896627e+08   \n",
       "7558  ...  6.148760e+08  6.784106e+07  2.626520e+08  1.916865e+08   \n",
       "7559  ...  6.113972e+08  6.914649e+07  2.591874e+08  1.955273e+08   \n",
       "7560  ...  6.050104e+08  6.872665e+07  2.564152e+08  1.965273e+08   \n",
       "\n",
       "               494           495           496           497           498  \\\n",
       "0     1.000000e+00  1.000000e+00  1.000000e+00  1.000000e+00  1.000000e+00   \n",
       "1     9.956318e-01  9.985745e-01  1.001895e+00  1.002379e+00  1.020757e+00   \n",
       "2     1.001340e+00  1.000501e+00  1.012049e+00  1.000456e+00  1.010133e+00   \n",
       "3     1.014542e+00  1.000162e+00  1.015978e+00  1.009598e+00  1.011034e+00   \n",
       "4     1.023315e+00  1.010737e+00  1.013600e+00  1.014218e+00  9.964423e-01   \n",
       "...            ...           ...           ...           ...           ...   \n",
       "7556  1.507883e+09  4.451196e+07  2.728521e+08  4.641325e+07  1.646872e+08   \n",
       "7557  1.540193e+09  4.515864e+07  2.719642e+08  4.670188e+07  1.652390e+08   \n",
       "7558  1.537356e+09  4.533823e+07  2.681747e+08  4.691649e+07  1.633941e+08   \n",
       "7559  1.511584e+09  4.558344e+07  2.743742e+08  4.717944e+07  1.622406e+08   \n",
       "7560  1.500071e+09  4.663997e+07  2.810767e+08  4.741012e+07  1.597774e+08   \n",
       "\n",
       "               499  \n",
       "0     1.000000e+00  \n",
       "1     1.001080e+00  \n",
       "2     1.007296e+00  \n",
       "3     1.015640e+00  \n",
       "4     1.030669e+00  \n",
       "...            ...  \n",
       "7556  1.723590e+08  \n",
       "7557  1.712642e+08  \n",
       "7558  1.758655e+08  \n",
       "7559  1.791271e+08  \n",
       "7560  1.783612e+08  \n",
       "\n",
       "[7561 rows x 500 columns]"
      ]
     },
     "execution_count": 55,
     "metadata": {},
     "output_type": "execute_result"
    }
   ],
   "source": [
    "# Running a Monte Carlo simulation to forecast 30 years cumulative returns\n",
    "# YOUR CODE HERE!\n",
    "MC_thirty_year.calc_cumulative_return()"
   ]
  },
  {
   "cell_type": "code",
   "execution_count": 57,
   "metadata": {},
   "outputs": [
    {
     "data": {
      "text/plain": [
       "<AxesSubplot:title={'center':'500 Simulations of Cumulative Portfolio Return Trajectories Over the Next 7560 Trading Days.'}>"
      ]
     },
     "execution_count": 57,
     "metadata": {},
     "output_type": "execute_result"
    },
    {
     "data": {
      "image/png": "[encoded data removed]",
      "text/plain": [
       "<Figure size 432x288 with 1 Axes>"
      ]
     },
     "metadata": {
      "needs_background": "light"
     },
     "output_type": "display_data"
    }
   ],
   "source": [
    "# Plot simulation outcomes\n",
    "# YOUR CODE HERE!\n",
    "MC_thirty_year.plot_simulation()"
   ]
  },
  {
   "cell_type": "code",
   "execution_count": 19,
   "metadata": {},
   "outputs": [
    {
     "data": {
      "image/png": "[encoded data removed]",
      "text/plain": [
       "<Figure size 432x288 with 1 Axes>"
      ]
     },
     "metadata": {
      "needs_background": "light"
     },
     "output_type": "display_data"
    }
   ],
   "source": []
  },
  {
   "cell_type": "code",
   "execution_count": 50,
   "metadata": {},
   "outputs": [
    {
     "data": {
      "text/plain": [
       "<AxesSubplot:title={'center':'Distribution of Final Cumuluative Returns Across All 500 Simulations'}, ylabel='Frequency'>"
      ]
     },
     "execution_count": 50,
     "metadata": {},
     "output_type": "execute_result"
    },
    {
     "data": {
      "image/png": "[encoded data removed]",
      "text/plain": [
       "<Figure size 432x288 with 1 Axes>"
      ]
     },
     "metadata": {
      "needs_background": "light"
     },
     "output_type": "display_data"
    }
   ],
   "source": [
    "# Plot probability distribution and confidence intervals\n",
    "# YOUR CODE HERE!\n",
    "MC_thirty_year.plot_distribution()"
   ]
  },
  {
   "cell_type": "markdown",
   "metadata": {},
   "source": [
    "### Retirement Analysis"
   ]
  },
  {
   "cell_type": "code",
   "execution_count": 62,
   "metadata": {},
   "outputs": [
    {
     "name": "stdout",
     "output_type": "stream",
     "text": [
      "count           5.000000e+02\n",
      "mean            3.445858e+08\n",
      "std             4.949521e+08\n",
      "min             8.309157e+06\n",
      "25%             8.311306e+07\n",
      "50%             1.799756e+08\n",
      "75%             3.948455e+08\n",
      "max             4.868294e+09\n",
      "95% CI Lower    2.175491e+07\n",
      "95% CI Upper    1.639421e+09\n",
      "Name: 7560, dtype: float64\n"
     ]
    }
   ],
   "source": [
    "# Fetch summary statistics from the Monte Carlo simulation results\n",
    "# YOUR CODE HERE!\n",
    "tbl =  MC_thirty_year.summarize_cumulative_return()\n",
    "# Print summary statistics\n",
    "# YOUR CODE HERE!\n",
    "print(tbl)"
   ]
  },
  {
   "cell_type": "markdown",
   "metadata": {},
   "source": [
    "### Calculate the expected portfolio return at the 95% lower and upper confidence intervals based on a `$20,000` initial investment."
   ]
  },
  {
   "cell_type": "code",
   "execution_count": 63,
   "metadata": {},
   "outputs": [
    {
     "name": "stdout",
     "output_type": "stream",
     "text": [
      "There is a 95% chance that an initial investment of $20000 in the portfolio over the next 30 years will end within in the range of $435098111525.76 and $32788421953970.99\n"
     ]
    }
   ],
   "source": [
    "# Set initial investment\n",
    "initial_investment = 20000\n",
    "\n",
    "# Use the lower and upper `95%` confidence intervals to calculate the range of the possible outcomes of our $20,000\n",
    "# YOUR CODE HERE!\n",
    "ci_lower = round(tbl[8]* initial_investment, 2)\n",
    "ci_upper = round(tbl[9]* initial_investment, 2)\n",
    "\n",
    "# Print results\n",
    "print(f\"There is a 95% chance that an initial investment of ${initial_investment} in the portfolio\"\n",
    "      f\" over the next 30 years will end within in the range of\"\n",
    "      f\" ${ci_lower} and ${ci_upper}\")"
   ]
  },
  {
   "cell_type": "markdown",
   "metadata": {},
   "source": [
    "### Calculate the expected portfolio return at the `95%` lower and upper confidence intervals based on a `50%` increase in the initial investment."
   ]
  },
  {
   "cell_type": "code",
   "execution_count": 64,
   "metadata": {},
   "outputs": [
    {
     "name": "stdout",
     "output_type": "stream",
     "text": [
      "There is a 95% chance that an initial investment of $30000.0 in the portfolio over the next 30 years will end within in the range of $652647167288.64 and $49182632930956.48\n"
     ]
    }
   ],
   "source": [
    "# Set initial investment\n",
    "initial_investment = 20000 * 1.5\n",
    "\n",
    "# Use the lower and upper `95%` confidence intervals to calculate the range of the possible outcomes of our $30,000\n",
    "# YOUR CODE HERE!\n",
    "ci_lower = round(tbl[8]* initial_investment,2)\n",
    "ci_upper = round(tbl[9]* initial_investment,2)\n",
    "# Print results\n",
    "print(f\"There is a 95% chance that an initial investment of ${initial_investment} in the portfolio\"\n",
    "      f\" over the next 30 years will end within in the range of\"\n",
    "      f\" ${ci_lower} and ${ci_upper}\")"
   ]
  }
 ],
 "metadata": {
  "kernelspec": {
   "display_name": "Python [conda env:.conda-alpacaenv]",
   "language": "python",
   "name": "conda-env-.conda-alpacaenv-py"
  },
  "language_info": {
   "codemirror_mode": {
    "name": "ipython",
    "version": 3
   },
   "file_extension": ".py",
   "mimetype": "text/x-python",
   "name": "python",
   "nbconvert_exporter": "python",
   "pygments_lexer": "ipython3",
   "version": "3.7.10"
  }
 },
 "nbformat": 4,
 "nbformat_minor": 4
}
