{
 "cells": [
  {
   "cell_type": "code",
   "execution_count": 37,
   "id": "0cf79ce3-9cd3-4c09-b5be-705b421dbf51",
   "metadata": {},
   "outputs": [],
   "source": [
    "#importing necessary libararies\n",
    "import pandas as pd\n",
    "import numpy as np"
   ]
  },
  {
   "cell_type": "code",
   "execution_count": 38,
   "id": "a1a581ed-f34c-4cf1-a2e0-df2a68f0d1ea",
   "metadata": {},
   "outputs": [],
   "source": [
    "#grabbing the budget data csv file \n",
    "# saving as pandas dataframe\n",
    "data = pd.read_csv(r'C:/Users/17735/Desktop/PREWORK_JB/nu-chi-virt-fin-pt-04-2021-u-c/02-Python/Homework/Instructions/PyBank/budget_data.csv')"
   ]
  },
  {
   "cell_type": "code",
   "execution_count": 39,
   "id": "ab3f4be1-1171-435a-a9dc-ba0f723abf1d",
   "metadata": {},
   "outputs": [],
   "source": [
    "#checking the length of the file to get number of months\n",
    "months = len(data)\n",
    "# grabs column from csv file and adds everything in that column\n",
    "total = data['Profit/Losses'].sum()\n",
    "# takes the difference between profit/losses and finds the mean/average for profit/losses\n",
    "#also rounds the decimal places to 2\n",
    "average_change = round(data['Profit/Losses'].diff().mean(),2)\n",
    "# finds the greatest increase/decreaase in profit/losses\n",
    "max_increase = data['Profit/Losses'].diff().max()\n",
    "max_decrease = data['Profit/Losses'].diff().min()"
   ]
  },
  {
   "cell_type": "code",
   "execution_count": 40,
   "id": "af780424-09dc-4069-a8ae-8f33d7b16c85",
   "metadata": {},
   "outputs": [],
   "source": [
    "#creates new column and moves profit/losses column into new column\n",
    "data['shift'] = data['Profit/Losses'].shift()"
   ]
  },
  {
   "cell_type": "code",
   "execution_count": 41,
   "id": "4640b925-41cc-443d-966c-2bab888b4c08",
   "metadata": {},
   "outputs": [],
   "source": [
    "#creates new column and subracts profit/losses with profit and losses to find the difference\n",
    "data['difference'] = data['Profit/Losses'] - data['shift']"
   ]
  },
  {
   "cell_type": "code",
   "execution_count": 42,
   "id": "f11362d0-edbe-45fa-9f99-0c2e691d6103",
   "metadata": {},
   "outputs": [],
   "source": [
    "#drops columns and saves in place\n",
    "data.drop('shift',axis=1,inplace=True)"
   ]
  },
  {
   "cell_type": "code",
   "execution_count": 43,
   "id": "6da27b0c-4ea3-45e8-9816-458f5a500b6a",
   "metadata": {},
   "outputs": [],
   "source": [
    "data.set_index('Date',inplace=True)"
   ]
  },
  {
   "cell_type": "code",
   "execution_count": 44,
   "id": "fc1a528b-85ff-4b4f-b16b-acc18ad8a793",
   "metadata": {},
   "outputs": [],
   "source": [
    "#finds the month where the greatest increase/decrease happened\n",
    "increase_date = data[data['difference'] == data['Profit/Losses'].diff().max()].index[0]\n",
    "decrease_date = data[data['difference'] == data['Profit/Losses'].diff().min()].index[0]"
   ]
  },
  {
   "cell_type": "code",
   "execution_count": 45,
   "id": "c7395df9-0b80-465a-b65f-832613e20cf7",
   "metadata": {},
   "outputs": [
    {
     "name": "stdout",
     "output_type": "stream",
     "text": [
      "Financial Analysis\n",
      "-------------------------------\n",
      "Total months: 86\n",
      "Total: $38382578\n",
      "Average Change: $-2315.1176470588234\n",
      "Greatest Increase in profits: Feb-2012 $1926159.0\n",
      "Greatest Decrease in profits: Sep-2013 $-2196167.0\n"
     ]
    }
   ],
   "source": [
    "#prints data locally\n",
    "print(\"Financial Analysis\")\n",
    "print(\"-------------------------------\")\n",
    "print(f'Total months: {months}')\n",
    "print(f'Total: ${total}')\n",
    "print(f'Average Change: ${average_change}')\n",
    "print(f'Greatest Increase in profits: {increase_date} ${max_increase}')\n",
    "print(f'Greatest Decrease in profits: {decrease_date} ${max_decrease}')"
   ]
  },
  {
   "cell_type": "code",
   "execution_count": 46,
   "id": "ce10cba3-63ca-40a2-b0e9-894f6e8b7ab6",
   "metadata": {},
   "outputs": [],
   "source": [
    "#makes a text file and sends the results\n",
    "with open('text_file.txt', \"a\") as outfile:\n",
    "    outfile.write(\"Financial Analysis\\n\")\n",
    "    outfile.write(\"-------------------------------\\n\")\n",
    "    outfile.write(f'Total months: {months}\\n')\n",
    "    outfile.write(f'Total: ${total}\\n')\n",
    "    outfile.write(f'Average Change: ${average_change}\\n')\n",
    "    outfile.write(f'Greatest Increase in profits: {increase_date} ${max_increase}\\n')\n",
    "    outfile.write(f'Greatest Decrease in profits: {decrease_date} ${max_decrease}\\n')"
   ]
  },
  {
   "cell_type": "code",
   "execution_count": null,
   "id": "a9a57df0-618c-480e-ae4f-782125c11e56",
   "metadata": {},
   "outputs": [],
   "source": []
  }
 ],
 "metadata": {
  "kernelspec": {
   "display_name": "Python 3",
   "language": "python",
   "name": "python3"
  },
  "language_info": {
   "codemirror_mode": {
    "name": "ipython",
    "version": 3
   },
   "file_extension": ".py",
   "mimetype": "text/x-python",
   "name": "python",
   "nbconvert_exporter": "python",
   "pygments_lexer": "ipython3",
   "version": "3.8.3"
  }
 },
 "nbformat": 4,
 "nbformat_minor": 5
}
