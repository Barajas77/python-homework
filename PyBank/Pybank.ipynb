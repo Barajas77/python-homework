{
 "cells": [
  {
   "cell_type": "code",
   "execution_count": 14,
   "id": "0cf79ce3-9cd3-4c09-b5be-705b421dbf51",
   "metadata": {},
   "outputs": [],
   "source": [
    "import pandas as pd\n",
    "import numpy as np\n",
    "import os"
   ]
  },
  {
   "cell_type": "code",
   "execution_count": 15,
   "id": "a1a581ed-f34c-4cf1-a2e0-df2a68f0d1ea",
   "metadata": {},
   "outputs": [],
   "source": [
    "data = pd.read_csv(r'C:/Users/17735/Desktop/PREWORK_JB/nu-chi-virt-fin-pt-04-2021-u-c/02-Python/Homework/Instructions/PyBank/budget_data.csv')"
   ]
  },
  {
   "cell_type": "code",
   "execution_count": 16,
   "id": "ab3f4be1-1171-435a-a9dc-ba0f723abf1d",
   "metadata": {},
   "outputs": [],
   "source": [
    "months = len(data)\n",
    "total = data['Profit/Losses'].sum()\n",
    "average_change = data['Profit/Losses'].diff().mean()\n",
    "max_increase = data['Profit/Losses'].diff().max()\n",
    "max_decrease = data['Profit/Losses'].diff().min()"
   ]
  },
  {
   "cell_type": "code",
   "execution_count": 17,
   "id": "af780424-09dc-4069-a8ae-8f33d7b16c85",
   "metadata": {},
   "outputs": [],
   "source": [
    "data['shift'] = data['Profit/Losses'].shift()"
   ]
  },
  {
   "cell_type": "code",
   "execution_count": 18,
   "id": "4640b925-41cc-443d-966c-2bab888b4c08",
   "metadata": {},
   "outputs": [],
   "source": [
    "data['difference'] = data['Profit/Losses'] - data['shift']"
   ]
  },
  {
   "cell_type": "code",
   "execution_count": 19,
   "id": "f11362d0-edbe-45fa-9f99-0c2e691d6103",
   "metadata": {},
   "outputs": [],
   "source": [
    "data.drop('shift',axis=1,inplace=True)"
   ]
  },
  {
   "cell_type": "code",
   "execution_count": 20,
   "id": "6da27b0c-4ea3-45e8-9816-458f5a500b6a",
   "metadata": {},
   "outputs": [],
   "source": [
    "data.set_index('Date',inplace=True)"
   ]
  },
  {
   "cell_type": "code",
   "execution_count": 21,
   "id": "fc1a528b-85ff-4b4f-b16b-acc18ad8a793",
   "metadata": {},
   "outputs": [],
   "source": [
    "increase_date = data[data['difference'] == data['Profit/Losses'].diff().max()].index[0]\n",
    "decrease_date = data[data['difference'] == data['Profit/Losses'].diff().min()].index[0]"
   ]
  },
  {
   "cell_type": "code",
   "execution_count": 22,
   "id": "c7395df9-0b80-465a-b65f-832613e20cf7",
   "metadata": {},
   "outputs": [
    {
     "name": "stdout",
     "output_type": "stream",
     "text": [
      "Financial Analysis\n",
      "-------------------------------\n",
      "Total months: 86\n",
      "Total: $38382578\n",
      "Average Change: $-2315.1176470588234\n",
      "Greatest Increase in profits: Feb-2012 $1926159.0\n",
      "Greatest Decrease in profits: Sep-2013 $-2196167.0\n"
     ]
    }
   ],
   "source": [
    "print(\"Financial Analysis\")\n",
    "print(\"-------------------------------\")\n",
    "print(f'Total months: {months}')\n",
    "print(f'Total: ${total}')\n",
    "print(f'Average Change: ${average_change}')\n",
    "print(f'Greatest Increase in profits: {increase_date} ${max_increase}')\n",
    "print(f'Greatest Decrease in profits: {decrease_date} ${max_decrease}')"
   ]
  },
  {
   "cell_type": "code",
   "execution_count": 26,
   "id": "ce10cba3-63ca-40a2-b0e9-894f6e8b7ab6",
   "metadata": {},
   "outputs": [],
   "source": [
    "with open('text_file.txt', \"a\") as outfile:\n",
    "    outfile.write(\"Financial Analysis\\n\")\n",
    "    outfile.write(\"-------------------------------\\n\")\n",
    "    outfile.write(f'Total months: {months}\\n')\n",
    "    outfile.write(f'Total: ${total}\\n')\n",
    "    outfile.write(f'Average Change: ${average_change}\\n')\n",
    "    outfile.write(f'Greatest Increase in profits: {increase_date} ${max_increase}\\n')\n",
    "    outfile.write(f'Greatest Decrease in profits: {decrease_date} ${max_decrease}\\n')"
   ]
  },
  {
   "cell_type": "code",
   "execution_count": null,
   "id": "6ace08ff-7cb7-490d-96ee-b11bb0ccc052",
   "metadata": {},
   "outputs": [],
   "source": []
  },
  {
   "cell_type": "code",
   "execution_count": null,
   "id": "a4437d56-7f4d-49c1-a99b-b2704347e5c6",
   "metadata": {},
   "outputs": [],
   "source": []
  }
 ],
 "metadata": {
  "kernelspec": {
   "display_name": "Python 3",
   "language": "python",
   "name": "python3"
  },
  "language_info": {
   "codemirror_mode": {
    "name": "ipython",
    "version": 3
   },
   "file_extension": ".py",
   "mimetype": "text/x-python",
   "name": "python",
   "nbconvert_exporter": "python",
   "pygments_lexer": "ipython3",
   "version": "3.8.3"
  }
 },
 "nbformat": 4,
 "nbformat_minor": 5
}
