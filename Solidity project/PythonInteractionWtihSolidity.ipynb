{
 "cells": [
  {
   "cell_type": "code",
   "execution_count": 1,
   "id": "3edb3df9-3102-49f8-b4b6-f86c09aa751c",
   "metadata": {},
   "outputs": [],
   "source": [
    "#initial imports\n",
    "import sys\n",
    "import web3\n",
    "\n",
    "from crypto import convertDataToJSON, pinJSONtoIPFS, initContract, w3\n",
    "\n",
    "from pprint import pprint"
   ]
  },
  {
   "cell_type": "code",
   "execution_count": 8,
   "id": "49e16dbd-b129-4da0-90ba-b7087259b712",
   "metadata": {},
   "outputs": [],
   "source": [
    "Gift_Coin_Mint = initContract(\"Gift_Coin_Mint.json\", \"0xE9DEd4f1497FE9E0D5258292883a2D9aD67651cE\")\n",
    "Gift_Time_Lock = initContract(\"Gift_Time_Lock.json\",\"0xd1c14739B6F9376624E8c8d9733ee869f58988f0\")"
   ]
  },
  {
   "cell_type": "code",
   "execution_count": 41,
   "id": "f60c72b0-8586-4de3-9de4-45c2b541d444",
   "metadata": {},
   "outputs": [],
   "source": [
    "def transfer(amount, recipient):\n",
    "    tx_hash = Gift_Coin_Mint.functions.transfer(recipient, amount).transact(\n",
    "        {\"from\": w3.eth.accounts[0]}\n",
    "    )\n",
    "    receipt = w3.eth.waitForTransactionReceipt(tx_hash)\n",
    "    return receipt"
   ]
  },
  {
   "cell_type": "code",
   "execution_count": 53,
   "id": "7dd94ed8-be29-47aa-b4d5-7f1e8d26e6d5",
   "metadata": {},
   "outputs": [],
   "source": [
    "def time_lock():\n",
    "    tx_hash = Gift_Time_Lock.functions.releaseTime().transact(\n",
    "        {\"from\": w3.eth.accounts[0]}\n",
    "    )\n",
    "    receipt = w3.eth.waitForTransactionReceipt(tx_hash)\n",
    "    return receipt"
   ]
  },
  {
   "cell_type": "code",
   "execution_count": 56,
   "id": "81116ed2-c377-4be4-a544-c42318b6dd0d",
   "metadata": {},
   "outputs": [
    {
     "data": {
      "text/plain": [
       "AttributeDict({'transactionHash': HexBytes('0xf564038c4da94f94178576574c5393b8beff57dce5c8f8c96aca82282a7dab1e'),\n",
       " 'transactionIndex': 0,\n",
       " 'blockHash': HexBytes('0xf7a59e20e19cb9f1dc498d0f1b482c89b47857046666d5682a96484298fb5d3d'),\n",
       " 'blockNumber': 26,\n",
       " 'from': '0x44c98f356b0aA21c7776f6E9C78c750Eb48BA3a6',\n",
       " 'to': '0xE9DEd4f1497FE9E0D5258292883a2D9aD67651cE',\n",
       " 'gasUsed': 36224,\n",
       " 'cumulativeGasUsed': 36224,\n",
       " 'contractAddress': None,\n",
       " 'logs': [AttributeDict({'logIndex': 0,\n",
       "   'transactionIndex': 0,\n",
       "   'transactionHash': HexBytes('0xf564038c4da94f94178576574c5393b8beff57dce5c8f8c96aca82282a7dab1e'),\n",
       "   'blockHash': HexBytes('0xf7a59e20e19cb9f1dc498d0f1b482c89b47857046666d5682a96484298fb5d3d'),\n",
       "   'blockNumber': 26,\n",
       "   'address': '0xE9DEd4f1497FE9E0D5258292883a2D9aD67651cE',\n",
       "   'data': '0x0000000000000000000000000000000000000000000000000000000000000064',\n",
       "   'topics': [HexBytes('0xddf252ad1be2c89b69c2b068fc378daa952ba7f163c4a11628f55a4df523b3ef'),\n",
       "    HexBytes('0x00000000000000000000000044c98f356b0aa21c7776f6e9c78c750eb48ba3a6'),\n",
       "    HexBytes('0x0000000000000000000000006f80d31255527e23970db3a80a7ab263c246952c')],\n",
       "   'type': 'mined'})],\n",
       " 'status': 1,\n",
       " 'logsBloom': HexBytes('0x00000000000000000000000000000000000000000000000000000000000000000000000000000040000000000000000000000000000000000000000000000000000000000000000000000008000000000100000000000000000040000000000000000000000000000000000000000000000000000000000000000010000000000000000000000000080000000000000008000000000000000000000000000000000000000000000020008000000000000000000000000000000000000000000000000002000000000000000000000000000000000000000000000000000000000000000400000000000000000080000000000000000000000000000000000000')})"
      ]
     },
     "execution_count": 56,
     "metadata": {},
     "output_type": "execute_result"
    }
   ],
   "source": [
    "transfer(100, \"0x6F80D31255527E23970db3a80a7ab263C246952C\")"
   ]
  },
  {
   "cell_type": "code",
   "execution_count": 57,
   "id": "60095177-f8ca-48c0-b675-e7d606adf859",
   "metadata": {},
   "outputs": [
    {
     "data": {
      "text/plain": [
       "AttributeDict({'transactionHash': HexBytes('0x67d159f0553f3dd0a75c36ff09e6c14b92114f0118feb517f9173d2928bc1b9b'),\n",
       " 'transactionIndex': 0,\n",
       " 'blockHash': HexBytes('0xd2a5d467548bf254309c0491a2517f7e309ef07735ba6278c650981a4048ec92'),\n",
       " 'blockNumber': 27,\n",
       " 'from': '0x44c98f356b0aA21c7776f6E9C78c750Eb48BA3a6',\n",
       " 'to': '0xd1c14739B6F9376624E8c8d9733ee869f58988f0',\n",
       " 'gasUsed': 21445,\n",
       " 'cumulativeGasUsed': 21445,\n",
       " 'contractAddress': None,\n",
       " 'logs': [],\n",
       " 'status': 1,\n",
       " 'logsBloom': HexBytes('0x00000000000000000000000000000000000000000000000000000000000000000000000000000000000000000000000000000000000000000000000000000000000000000000000000000000000000000000000000000000000000000000000000000000000000000000000000000000000000000000000000000000000000000000000000000000000000000000000000000000000000000000000000000000000000000000000000000000000000000000000000000000000000000000000000000000000000000000000000000000000000000000000000000000000000000000000000000000000000000000000000000000000000000000000000000000')})"
      ]
     },
     "execution_count": 57,
     "metadata": {},
     "output_type": "execute_result"
    }
   ],
   "source": [
    "time_lock()"
   ]
  },
  {
   "cell_type": "code",
   "execution_count": null,
   "id": "02d9d6bd-deec-4291-9ab1-9c6f7f18c1a8",
   "metadata": {},
   "outputs": [],
   "source": []
  }
 ],
 "metadata": {
  "kernelspec": {
   "display_name": "Python 3",
   "language": "python",
   "name": "python3"
  },
  "language_info": {
   "codemirror_mode": {
    "name": "ipython",
    "version": 3
   },
   "file_extension": ".py",
   "mimetype": "text/x-python",
   "name": "python",
   "nbconvert_exporter": "python",
   "pygments_lexer": "ipython3",
   "version": "3.7.10"
  }
 },
 "nbformat": 4,
 "nbformat_minor": 5
}
